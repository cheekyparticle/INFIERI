{
 "cells": [
  {
   "cell_type": "markdown",
   "metadata": {},
   "source": [
    "## Annual Modulation"
   ]
  },
  {
   "cell_type": "markdown",
   "metadata": {},
   "source": [
    "- In this notebook we discuss the expected annual modulation of dark matter signals. \n",
    "\n",
    "- When the Earth orbits the Sun, sometimes its moving with the direction of the WIMP wind and sometimes against. \n",
    "\n",
    "<img src=\"figures/annual_mod.png\" style=\"width:40%\" >"
   ]
  },
  {
   "cell_type": "code",
   "execution_count": 1,
   "metadata": {},
   "outputs": [
    {
     "data": {
      "application/javascript": [
       "IPython.OutputArea.prototype._should_scroll = function(lines) {\n",
       "    return false;\n",
       "}\n"
      ],
      "text/plain": [
       "<IPython.core.display.Javascript object>"
      ]
     },
     "metadata": {},
     "output_type": "display_data"
    }
   ],
   "source": [
    "%%javascript\n",
    "IPython.OutputArea.prototype._should_scroll = function(lines) {\n",
    "    return false;\n",
    "}"
   ]
  },
  {
   "cell_type": "code",
   "execution_count": 2,
   "metadata": {},
   "outputs": [],
   "source": [
    "from __future__ import print_function\n",
    "\n",
    "import DM_simple as DM \n",
    "\n",
    "from ipywidgets import interact, interactive, fixed, interact_manual\n",
    "import ipywidgets as widgets"
   ]
  },
  {
   "cell_type": "markdown",
   "metadata": {},
   "source": [
    "- The larger the relative velocity of dark matter is, the higher maximum recoil energy $E_{R}^{\\rm max}$ of the nucleus will be. \n",
    "\n",
    "- Because dark matter particles do not have a fixed velocity, we have to integrate over the velocity distribution, $f(v)$,\n",
    "\n",
    "$$\\eta(v_{\\rm min})=\\int_{v_{\\rm min}} v f(v)\\, {\\rm d} v$$\n",
    "\n",
    "- Below you can see how this integral changes over the year. "
   ]
  },
  {
   "cell_type": "code",
   "execution_count": 3,
   "metadata": {},
   "outputs": [
    {
     "data": {
      "application/vnd.jupyter.widget-view+json": {
       "model_id": "8545666482384a5ba5775fb726d3b494",
       "version_major": 2,
       "version_minor": 0
      },
      "text/plain": [
       "interactive(children=(IntSlider(value=0, description='Days since Jan 1', layout=Layout(width='400px'), max=366…"
      ]
     },
     "metadata": {},
     "output_type": "display_data"
    }
   ],
   "source": [
    "interactive_plot = interact_manual(DM.plot_eta, t=DM.time_slide)"
   ]
  },
  {
   "cell_type": "markdown",
   "metadata": {},
   "source": [
    "- Can you tell what day in the year the Earth is moving fastest relative to the Galactic rest frame? "
   ]
  },
  {
   "cell_type": "markdown",
   "metadata": {},
   "source": [
    "### Exercise 2: Future detector and annual modulation\n",
    "\n",
    "- This modulation effects the differential rate (${\\rm d}R/{\\rm d}E_R$). One can capture the modulation by \n",
    "\n",
    "$$\\Delta(t_1,t_2) = \\frac{1}{2}\\left(\\frac{{\\rm d}R}{{\\rm d}E_R}\\Bigg\\vert_{t_2} - \\frac{{\\rm d}R}{{\\rm d}E_R}\\Bigg\\vert_{t_1} \\right)$$\n",
    "\n",
    "- Use the interactive window below to maximise $\\Delta$ by changing $t_1$ and $t_2$."
   ]
  },
  {
   "cell_type": "code",
   "execution_count": 4,
   "metadata": {},
   "outputs": [
    {
     "data": {
      "application/vnd.jupyter.widget-view+json": {
       "model_id": "047c84920df24f6ca3cce22c39cb593f",
       "version_major": 2,
       "version_minor": 0
      },
      "text/plain": [
       "interactive(children=(FloatLogSlider(value=100.0, description='$m_{\\\\rm DM}\\\\,\\\\, (\\\\rm{GeV})$', layout=Layout…"
      ]
     },
     "metadata": {},
     "output_type": "display_data"
    }
   ],
   "source": [
    "interactive_plot2 = interact_manual(DM.plot_modulation, m_x=DM.mdm_slide, sigma=DM.sigma_slide, t1=DM.time_slide1, t2=DM.time_slide2)"
   ]
  },
  {
   "cell_type": "markdown",
   "metadata": {},
   "source": [
    "- How does the modulation change if you change $m_{\\rm DM}$?\n",
    "\n",
    "- What is the percentage effect of the modulation? I.e. What is $\\Delta/{\\rm rate}$? \n",
    "\n",
    "- At what recoil energy is it best to observe the modulation?"
   ]
  },
  {
   "cell_type": "markdown",
   "metadata": {},
   "source": [
    "### Exercise 3: Future detector and annual modulation\n",
    "- Returning back to excersice 4 in [the first notebook](./INFIERI_SCHOOL.ipynb), lets see if annual modulation could help in determining the values of $m_{\\rm DM}$ and $\\sigma$. Use the interactive window below to fix the next generations $E_{\\rm th}$ and exposure ($\\epsilon$), and match the theory prediction with the (imaginary) observation.  \n",
    "\n",
    "- Because the amplitude of modulation is energy dependent, we can track modulation over each energy bin. \n",
    "\n",
    "- The time of the maximum amplitude is energy independent though, so you can essentially read off the days where the Earth is moving parallel or anti-parallel to the WIMP wind. Does this correspond with what you had in the last exercise?"
   ]
  },
  {
   "cell_type": "code",
   "execution_count": 5,
   "metadata": {},
   "outputs": [
    {
     "data": {
      "application/vnd.jupyter.widget-view+json": {
       "model_id": "bc062ca1b05245d3a8ead4e1a0e5920b",
       "version_major": 2,
       "version_minor": 0
      },
      "text/plain": [
       "interactive(children=(FloatSlider(value=10.0, description='$E_{\\\\rm{th}}\\\\,\\\\,(\\\\rm{keV})$', layout=Layout(wid…"
      ]
     },
     "metadata": {},
     "output_type": "display_data"
    }
   ],
   "source": [
    "interactive_plot3 = interact_manual(DM.plot_modulation_timeseries, Eth=DM.Eth_slide, exposure=DM.g2_expo_slide,\n",
    "                                    m_x=DM.mdm_slide, \n",
    "                                    sigma=DM.sigma_slide)"
   ]
  },
  {
   "cell_type": "code",
   "execution_count": null,
   "metadata": {},
   "outputs": [],
   "source": []
  }
 ],
 "metadata": {
  "kernelspec": {
   "display_name": "Python 3",
   "language": "python",
   "name": "python3"
  },
  "language_info": {
   "codemirror_mode": {
    "name": "ipython",
    "version": 3
   },
   "file_extension": ".py",
   "mimetype": "text/x-python",
   "name": "python",
   "nbconvert_exporter": "python",
   "pygments_lexer": "ipython3",
   "version": "3.8.3"
  }
 },
 "nbformat": 4,
 "nbformat_minor": 4
}
