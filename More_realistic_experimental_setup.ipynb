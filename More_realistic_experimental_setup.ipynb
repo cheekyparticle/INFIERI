{
 "cells": [
  {
   "cell_type": "markdown",
   "metadata": {},
   "source": [
    "### Maing our analysis more realistic\n",
    "\n",
    "- In the [first notebook](./INFIERI_SCHOOL.ipynb) one might have estimated that Xenon1Ts exposure is around $2\\times 10^4\\,\\rm{kg}\\,\\rm{days}$, but Xenon1T's fiducial mass is $0.9\\,\\rm{tons}\\times 278.8\\, \\rm{days}=2.5\\times 10^{5}\\,\\rm{kg}\\,\\rm{days}$. \n",
    "- The main reason that this is so different is because we were oversimplifying our modeling of the experiment. \n",
    "- In this notebook, we learn a little bit more about how to model the detector, without actually making a full simulation of the detector! "
   ]
  },
  {
   "cell_type": "code",
   "execution_count": 1,
   "metadata": {},
   "outputs": [],
   "source": [
    "from __future__ import print_function\n",
    "\n",
    "import DM_simple as DM \n",
    "\n",
    "from ipywidgets import interact, interactive, fixed, interact_manual\n",
    "import ipywidgets as widgets"
   ]
  },
  {
   "cell_type": "markdown",
   "metadata": {},
   "source": [
    "<div style=\"width:50%; float:left\">\n",
    "<br>\n",
    "\n",
    "- The Xenon1T detector has a liquid and gas component and has an electric field present. \n",
    "\n",
    "- When a recoil happens there are two types of signal. The light signal (S1) and the charge signal (S2).\n",
    "\n",
    "- Analysis of these signals can help determine the position of the scattering.\n",
    "    \n",
    "- Importantly it can give some discrimination between electronic recoils and nuclear recoils.\n",
    " \n",
    "<img src=\"figures/s1s2_cartoon.png\" style=\"width:70%\" >\n",
    "\n",
    "</div>\n",
    "<div style=\"width:50%; float:right\">\n",
    "<br>\n",
    "    \n",
    "<img src=\"figures/detector.png\" style=\"width:80%\" >\n",
    "    \n",
    "</div>"
   ]
  },
  {
   "cell_type": "markdown",
   "metadata": {},
   "source": [
    "<div style=\"width:30%; float:left\">\n",
    "<br>\n",
    "\n",
    "- Analysing S1 and S2 isn't as clean as the cartton above suggests.\n",
    "- The figure on the right shows how the signal regions overlap somewhat.\n",
    "- To avoid misidentifying an electron recoil for a nuclear recoil, Xenon1T perform an analysis cut which reduces the number of nuclear recoils by a factor of $2.105$.\n",
    "- Determine what Xenon1Ts effective exposure is now? How far is it from your estimate in the [first notebook?](./INFIERI_SCHOOL.ipynb)\n",
    " \n",
    "</div>\n",
    "<div style=\"width:70%; float:right\">\n",
    "<br>\n",
    "    \n",
    "<img src=\"figures/real_s1s2.png\" style=\"width:80%\" >\n",
    "    \n",
    "</div>"
   ]
  },
  {
   "cell_type": "markdown",
   "metadata": {},
   "source": [
    "#### Whats wrong with electronic recoils?\n",
    "\n",
    "- There will be something about this by Monday (if not all mention will have vanished)."
   ]
  },
  {
   "cell_type": "markdown",
   "metadata": {},
   "source": [
    "#### Efficiency curve and a lower $E_{\\rm th}$\n",
    "<div style=\"width:40%; float:left\">\n",
    "<br>\n",
    "\n",
    "- Unlike how we models it in the [first notebook](./INFIERI_SCHOOL.ipynb), the detector doesn't measure $E_R$ of the nucleus directly and such having a clear cut for the threshold energy ($E_{\\rm th}$) isn't realistic. \n",
    "\n",
    "- The plot on the right shows how the region of interest for the experiment is actually $[3-70]$ photo-electrons (PE) in S1.\n",
    "    \n",
    "- You see contours of ${\\rm keV}_{\\rm NR}$ showing how S1 and S2 non-trivially map to $E_{R}$.\n",
    "\n",
    " \n",
    "</div>\n",
    "<div style=\"width:60%; float:right\">\n",
    "<br>\n",
    "    \n",
    "<img src=\"figures/xe1t_res.png\" style=\"width:80%\" >\n",
    "    \n",
    "</div>"
   ]
  },
  {
   "cell_type": "markdown",
   "metadata": {},
   "source": [
    "- In the end collaborations publish their \"efficiency curves\" which represent an extra $E_R$ dependent analysis cut. This is shown in the plot below. "
   ]
  },
  {
   "cell_type": "code",
   "execution_count": 2,
   "metadata": {},
   "outputs": [
    {
     "data": {
      "image/png": "[encoded data removed]",
      "text/plain": [
       "<Figure size 432x288 with 1 Axes>"
      ]
     },
     "metadata": {
      "needs_background": "light"
     },
     "output_type": "display_data"
    }
   ],
   "source": [
    "DM.plot_efficiency()"
   ]
  },
  {
   "cell_type": "markdown",
   "metadata": {},
   "source": [
    "- Lets look again at the differential recoil rates to think about the effects this could have. "
   ]
  },
  {
   "cell_type": "code",
   "execution_count": 3,
   "metadata": {},
   "outputs": [
    {
     "data": {
      "application/vnd.jupyter.widget-view+json": {
       "model_id": "297ebcbe89404babbc9c449ed8980369",
       "version_major": 2,
       "version_minor": 0
      },
      "text/plain": [
       "interactive(children=(FloatLogSlider(value=100.0, description='$m_{\\\\rm DM}\\\\,\\\\, (\\\\rm{GeV})$', max=3.0, step…"
      ]
     },
     "metadata": {},
     "output_type": "display_data"
    }
   ],
   "source": [
    "interactive_plot = interact_manual(DM.plot_spec_xe, m_x=DM.mdm_slide, sigma=DM.sigma_slide)"
   ]
  },
  {
   "cell_type": "markdown",
   "metadata": {},
   "source": [
    "- For a large part of the signal, the efficiency simply adds an additional factor of $0.8$ to the exposure. How far is this from your estimate in [the first notebook?](./INFIERI_SCHOOL.ipynb)\n",
    "\n",
    "- There is also the additional fact that now, $E_{\\rm th}$ may be a little lower than you had estimated.\n",
    "\n",
    "- By looking at the signal shape, you can see that this provides additional recoils. \n",
    "\n",
    "- Below I call the efficiency function, find the new $E_{\\rm th}$."
   ]
  },
  {
   "cell_type": "code",
   "execution_count": 4,
   "metadata": {},
   "outputs": [],
   "source": [
    "effiency = DM.read_efficiency()"
   ]
  },
  {
   "cell_type": "code",
   "execution_count": 5,
   "metadata": {},
   "outputs": [
    {
     "data": {
      "text/plain": [
       "array(0.152786)"
      ]
     },
     "execution_count": 5,
     "metadata": {},
     "output_type": "execute_result"
    }
   ],
   "source": [
    "effiency(4.0)"
   ]
  },
  {
   "cell_type": "markdown",
   "metadata": {},
   "source": [
    "- Below the interactive window compares the signal without and with the detector efficiency."
   ]
  },
  {
   "cell_type": "code",
   "execution_count": 6,
   "metadata": {},
   "outputs": [
    {
     "data": {
      "application/vnd.jupyter.widget-view+json": {
       "model_id": "c91779a48f894737a7d3e8e0af74ff35",
       "version_major": 2,
       "version_minor": 0
      },
      "text/plain": [
       "interactive(children=(FloatLogSlider(value=100.0, description='$m_{\\\\rm DM}\\\\,\\\\, (\\\\rm{GeV})$', max=3.0, step…"
      ]
     },
     "metadata": {},
     "output_type": "display_data"
    }
   ],
   "source": [
    "interactive_plot = interact_manual(DM.plot_xe1t_bin_eff,\n",
    "                                    m_x=DM.mdm_slide, \n",
    "                                    sigma=DM.sigma_slide)"
   ]
  },
  {
   "cell_type": "code",
   "execution_count": null,
   "metadata": {},
   "outputs": [],
   "source": []
  },
  {
   "cell_type": "markdown",
   "metadata": {},
   "source": [
    "- maybe something to do with backgrounds"
   ]
  },
  {
   "cell_type": "code",
   "execution_count": 7,
   "metadata": {},
   "outputs": [
    {
     "data": {
      "text/plain": [
       "90331.20000000001"
      ]
     },
     "execution_count": 7,
     "metadata": {},
     "output_type": "execute_result"
    }
   ],
   "source": [
    "0.9*1e3*278.8*0.45*0.8 "
   ]
  },
  {
   "cell_type": "markdown",
   "metadata": {},
   "source": [
    "#### Returning to the exclusion calculation\n",
    "\n",
    "- As discussed above, Xenon1T did actually expect $1.62$ background events and after all analysis cuts were applied they observed $(N_{\\rm obs})$ 2 events. \n",
    "\n",
    "- This changes the calculation for the 90% confidence limit. \n",
    "\n",
    "- Show that it leads to the equation\n",
    "\n",
    "$$1+N_{\\rm th} + N_{\\rm th}^2= 0.1 e^{N_{\\rm th}}$$\n",
    "\n",
    "- Remembering that $N_{\\rm th}= N_{\\rm DM}+ N_{\\rm bk}$, find the solution for $N_{\\rm th}$ in the equation above to show that now $N_{\\rm DM}=3.68$ corresponds to the 90% confidence level. \n",
    "\n",
    "- Below we have a new function which calculates the counts in a xenon experiment using the xenon efficiency. You can use this to calculate your new 90% C.L. as in [the first notebook.](./INFIERI_SCHOOL.ipynb)"
   ]
  },
  {
   "cell_type": "code",
   "execution_count": 10,
   "metadata": {},
   "outputs": [],
   "source": [
    "xenon1t_eth = 2.0 ## Type a low value where efficiency = 0.0 from above.\n",
    "xenon1t_expo = 0.9*1e3*278.8*0.475 ## 0.9 t * 278.8 days * analysis cut "
   ]
  },
  {
   "cell_type": "code",
   "execution_count": 11,
   "metadata": {},
   "outputs": [
    {
     "data": {
      "text/plain": [
       "4.3038930999041805"
      ]
     },
     "execution_count": 11,
     "metadata": {},
     "output_type": "execute_result"
    }
   ],
   "source": [
    "DM.Nevents_xenon_eff(Eth = xenon1t_eth, exposure=xenon1t_expo, m_x = 100.0, sigma=1e-46)"
   ]
  },
  {
   "cell_type": "code",
   "execution_count": null,
   "metadata": {},
   "outputs": [],
   "source": []
  },
  {
   "cell_type": "code",
   "execution_count": null,
   "metadata": {},
   "outputs": [],
   "source": []
  },
  {
   "cell_type": "markdown",
   "metadata": {},
   "source": [
    "- Now you can explore the effects of [annual modulation.](Annual_modulation.ipynb)"
   ]
  }
 ],
 "metadata": {
  "kernelspec": {
   "display_name": "Python 3",
   "language": "python",
   "name": "python3"
  },
  "language_info": {
   "codemirror_mode": {
    "name": "ipython",
    "version": 3
   },
   "file_extension": ".py",
   "mimetype": "text/x-python",
   "name": "python",
   "nbconvert_exporter": "python",
   "pygments_lexer": "ipython3",
   "version": "3.8.3"
  }
 },
 "nbformat": 4,
 "nbformat_minor": 4
}
