{
 "cells": [
  {
   "cell_type": "markdown",
   "metadata": {},
   "source": [
    "## Notebook on Designing Direct Detection experiments\n",
    "\n",
    "- In this notebook we will look more in detail of how direct dark matter detection experiments work. \n",
    "- If you're unfamiliar with Jupyter Notebooks, don't worry, this should be designed such that you only need to execute each cell (i.e. press shift + enter). \n",
    "\n"
   ]
  },
  {
   "cell_type": "markdown",
   "metadata": {},
   "source": [
    "- First we need to import the needed libraries for our calculations."
   ]
  },
  {
   "cell_type": "code",
   "execution_count": 1,
   "metadata": {},
   "outputs": [],
   "source": [
    "from __future__ import print_function\n",
    "\n",
    "import DM_simple as DM \n",
    "\n",
    "from ipywidgets import interact, interactive, fixed, interact_manual\n",
    "import ipywidgets as widgets"
   ]
  },
  {
   "cell_type": "markdown",
   "metadata": {},
   "source": [
    "- First we'll look at the differential recoil rate for xenon, argon and germanium targets. \n",
    "- Below click the \"Run interact\". \n",
    "- How is the recoil rate effected by the parameters $m_{\\rm{DM}}$ and $\\sigma$? (Click the slider to a new number and press \"Run interact\" again. "
   ]
  },
  {
   "cell_type": "code",
   "execution_count": 2,
   "metadata": {},
   "outputs": [
    {
     "data": {
      "application/vnd.jupyter.widget-view+json": {
       "model_id": "d76a4057fe1f4a54987e7143704c2510",
       "version_major": 2,
       "version_minor": 0
      },
      "text/plain": [
       "interactive(children=(FloatLogSlider(value=100.0, description='$m_{\\\\rm DM}\\\\,\\\\, \\\\left[\\\\rm{GeV}\\\\right]$', …"
      ]
     },
     "metadata": {},
     "output_type": "display_data"
    }
   ],
   "source": [
    "interactive_plot = interact_manual(DM.plot_spec, m_x=DM.mdm_slide, sigma=DM.sigma_slide)"
   ]
  },
  {
   "cell_type": "markdown",
   "metadata": {},
   "source": [
    "**Answer**: For the first question, we're just looking for them to notice that the shape changes if $m_{\\rm DM}$ changes and $\\sigma$ just effects the scale on the y-axis."
   ]
  },
  {
   "cell_type": "markdown",
   "metadata": {},
   "source": [
    "- In the limit $E_R\\rightarrow 0$, the rate for xenon is greater than germanium, which in turn, is greater than for argon. Can you explain why this is? You can use the interactive window to get a rough estimate, but you can also use the actual code as well. "
   ]
  },
  {
   "cell_type": "code",
   "execution_count": 3,
   "metadata": {},
   "outputs": [
    {
     "data": {
      "text/plain": [
       "0.00046558938054364144"
      ]
     },
     "execution_count": 3,
     "metadata": {},
     "output_type": "execute_result"
    }
   ],
   "source": [
    "DM.rate_xenon(Er=1.0, m_x=100.0, sigma= 1e-44)"
   ]
  },
  {
   "cell_type": "code",
   "execution_count": 4,
   "metadata": {},
   "outputs": [
    {
     "data": {
      "text/plain": [
       "4.4363789508252776e-05"
      ]
     },
     "execution_count": 4,
     "metadata": {},
     "output_type": "execute_result"
    }
   ],
   "source": [
    "DM.rate_argon(Er=1.0, m_x=100.0, sigma= 1e-44)"
   ]
  },
  {
   "cell_type": "code",
   "execution_count": 5,
   "metadata": {},
   "outputs": [
    {
     "data": {
      "text/plain": [
       "0.00015063213711421158"
      ]
     },
     "execution_count": 5,
     "metadata": {},
     "output_type": "execute_result"
    }
   ],
   "source": [
    "DM.rate_germanium(Er=1.0, m_x=100.0, sigma= 1e-44)"
   ]
  },
  {
   "cell_type": "markdown",
   "metadata": {},
   "source": [
    "**Answer**: One thing to notice is that the result is nan as you put $E_R=0$ zero. Encourage them to think about whether a scattering where the nucleus is unaffected (i.e. when $E_R$ is exactly zero) makes sense. What they should see is the value is roughly fixed for $E_R$ closer and closer to $0$ like $10^{-6}$ for example. \n",
    "\n",
    "By taking the ratio we can get "
   ]
  },
  {
   "cell_type": "code",
   "execution_count": 6,
   "metadata": {},
   "outputs": [
    {
     "data": {
      "text/plain": [
       "10.886585894841144"
      ]
     },
     "execution_count": 6,
     "metadata": {},
     "output_type": "execute_result"
    }
   ],
   "source": [
    "DM.rate_xenon(Er=1e-10, m_x=100.0, sigma= 1e-44)/DM.rate_argon(Er=1e-10, m_x=100.0, sigma= 1e-44)"
   ]
  },
  {
   "cell_type": "markdown",
   "metadata": {},
   "source": [
    "Now remember that the spin independent scattering is enhanced by $A^2$ where $A$ is the nucleon number. For xenon, a common isotop is $ ^{132}{\\rm Xe}$ and argon $ ^{40}{\\rm Ar}$.\n",
    "\n",
    "so we have"
   ]
  },
  {
   "cell_type": "code",
   "execution_count": 7,
   "metadata": {},
   "outputs": [
    {
     "data": {
      "text/plain": [
       "10.89"
      ]
     },
     "execution_count": 7,
     "metadata": {},
     "output_type": "execute_result"
    }
   ],
   "source": [
    "132**2/40**2"
   ]
  },
  {
   "cell_type": "markdown",
   "metadata": {},
   "source": [
    "**Answer complete**"
   ]
  },
  {
   "cell_type": "markdown",
   "metadata": {},
   "source": [
    "- We learnt earlier that in a real experiment, detectors are not able to measure recoil energies ($E_R$) at arbitrarily low or high values.\n",
    "- The lowest recoil an experiment can measure is called the **energy threshold**, $E_{\\rm th}$.\n",
    "- The highest recoil an experiment measures is $E_{\\rm max}$. This is more of a choice than a experimental limitation, look at the differential rates above to think about why. \n",
    "- So the number of DM interactions detected per kg pr day is given by \n",
    "\n",
    "$$\\int_{E_{\\rm th}}^{E_{\\rm max}}\\frac{\\textrm{d}R}{\\textrm{d}E_R}.$$\n"
   ]
  },
  {
   "cell_type": "markdown",
   "metadata": {},
   "source": [
    "- Lets try to understand a little bit about a real experiment, [Xenon1T](https://arxiv.org/pdf/1805.12562.pdf), which is a xenon target. \n",
    "- The collaboration reported the exclusion limit below. \n",
    "\n",
    "<img src=\"figures/Xenon1T.png\" width=\"500\" >"
   ]
  },
  {
   "cell_type": "markdown",
   "metadata": {},
   "source": [
    "- It looks like the Xenon1T limit starts when $m_{\\rm DM}\\sim 6\\,\\,{\\rm GeV}$.\n",
    "- Use the interactive window below to estimate the value of $E_{\\rm th}$ for the experiment (we have chosen $E_{\\rm max}=50\\,\\,{\\rm keV}$)."
   ]
  },
  {
   "cell_type": "code",
   "execution_count": 8,
   "metadata": {
    "hide_input": false
   },
   "outputs": [
    {
     "data": {
      "application/vnd.jupyter.widget-view+json": {
       "model_id": "95694f0a71aa40a8a27944a7d2b8697c",
       "version_major": 2,
       "version_minor": 0
      },
      "text/plain": [
       "interactive(children=(FloatSlider(value=10.0, description='$E_{\\\\rm{th}}\\\\,\\\\,\\\\left[\\\\rm{keV}\\\\right]$', max=…"
      ]
     },
     "metadata": {},
     "output_type": "display_data"
    }
   ],
   "source": [
    "interactive_plot2 = interact_manual(DM.plot_bin_for_Eth, Eth=DM.Eth_slide, m_x=DM.mdm_slide, \n",
    "                                    sigma=DM.sigma_slide)"
   ]
  },
  {
   "cell_type": "markdown",
   "metadata": {},
   "source": [
    "**ANSWER**: By setting the mass to around $6\\,\\,{\\rm GeV}$ we can see that if $E_{\\rm th}\\gtrsim 4 {\\rm keV}$ there is no signal, below that, there is. So $E_{\\rm th}\\sim 4\\,\\,{\\rm keV}$."
   ]
  },
  {
   "cell_type": "markdown",
   "metadata": {},
   "source": [
    "- Now you have found the threshold energy, lets try to estimate the exposure $\\epsilon$ of Xenon1T in kg days.\n",
    "- **Hint**: Assume that the exclusion line is given when counts $\\sim 1$. Look at the value for $\\sigma$ around $m_{\\rm DM}\\sim 100\\,\\,{\\rm GeV}$, use the interactive window above to estimate $\\epsilon$."
   ]
  },
  {
   "cell_type": "markdown",
   "metadata": {},
   "source": [
    "**ANSWER**: By setting the parameters $m_{\\rm DM}\\sim 100\\,\\,{\\rm GeV}$, $E_{\\rm th}\\sim 4\\,\\,{\\rm keV}$ and $\\sigma=10^{-46}\\,\\,{\\rm cm}^2$ (which I read off from the black line in the Xenon1T exclusion limit), I get $\\sim 5\\times 10^{-5}\\,\\, {\\rm Counts }\\,\\,{\\rm kg}^{-1}\\,\\,{\\rm day}^{-1}$. So in order to have $\\sim 1 $ recoil observed by the experiment, its expsosure should be $\\sim 2\\times 10^4\\,\\,{\\rm kg}\\,\\, {\\rm day}$."
   ]
  },
  {
   "cell_type": "code",
   "execution_count": 9,
   "metadata": {},
   "outputs": [
    {
     "data": {
      "text/plain": [
       "20000.0"
      ]
     },
     "execution_count": 9,
     "metadata": {},
     "output_type": "execute_result"
    }
   ],
   "source": [
    "1/5e-5"
   ]
  },
  {
   "cell_type": "markdown",
   "metadata": {},
   "source": [
    "## Building an Exclusion limit \n",
    " \n",
    "- Now we have a toy model of the Xenon1T experiment, lets see if we can produce a exclusion line similar to the one above. \n",
    "\n",
    "- Above we assumed that Counts ~ 1 is roughly where the exclusion limit will lay, this makes sense, but we can be more specific by using statistics.\n",
    "\n",
    "- Direct detection is a counting experiment with its probability described by the Poisson distribution\n",
    "\n",
    "$$\\mathcal{P}\\left(N_{\\mathrm{obs}} | N_{\\mathrm{th}}\\right)=\\frac{N_{\\mathrm{th}}^{N_{\\mathrm{obs}}} e^{-N_{\\mathrm{th}}}}{N_{\\mathrm{obs}} !}$$\n",
    "\n",
    "- where $N_{\\mathrm{th}}=N_{\\mathrm{DM}}+N_{\\mathrm{bk}}$, is the theoretical counts expected for a parameter point $\\Theta$ and $N_{\\mathrm{obs}}$ is the observed counts.\n",
    "\n",
    "- $N_{\\mathrm{bk}}$ is the number of expected background events. This is roughly zero for Xenon1T. \n",
    "\n",
    "- Xenon1T shown above is showing the 90% confidence level. This is like saying 90% of experiments would have detected more events given a theoretical expectation $N_{\\mathrm{th}}$,\n",
    "\n",
    "$$\\sum_{m=N_{\\mathrm{obs}}+1}^{\\infty} \\mathcal{P}\\left(m |N_{\\mathrm{th}}\\right)=0.9$$ \n",
    "\n",
    "- Xenon1T observed no nuclear recoil events $N_{\\mathrm{obs}}=0.0$, show that the 90% confidence limit corresponds to $N_{\\mathrm{DM}}=2.303$.\n",
    "\n",
    "- **Hint** remember that all probabilities have to add up to 1, i.e. $\\sum_{m=0}^{\\infty}\\mathcal{P} = 1$, use this to substitute out $\\sum_{m=N_{\\mathrm{obs}}+1}^{\\infty} \\mathcal{P}\\left(m | N_{\\mathrm{th}}\\right)$ to something more manageable. "
   ]
  },
  {
   "cell_type": "markdown",
   "metadata": {},
   "source": [
    "**Answer**: Using the hint we get \n",
    "\n",
    "$$\\sum_{m=0}^{N_{\\mathrm{obs}}} \\mathcal{P}\\left(m |  N_{\\mathrm{th}}\\right)= 0.1$$\n",
    "\n",
    "since $N_{\\mathrm{obs}}=0$ this is just\n",
    "\n",
    "$$\\mathcal{P}\\left(0 |  N_{\\mathrm{th}}\\right)=  e^{-N_{\\mathrm{DM}}}= 0.1$$\n",
    "\n",
    "taking the log of each side we get $N_{\\mathrm{DM}}=2.303$."
   ]
  },
  {
   "cell_type": "markdown",
   "metadata": {},
   "source": [
    "- Now lets see if we can write a code which can calculate the value of $\\sigma$ that corresponds to the 90\\% confidence level (i.e. Counts equal to 2.303 or $N_{\\mathrm{DM}}=2.303$).\n",
    "\n",
    "- First in the cell below, specify the values for $E_{\\rm th}$ and $\\epsilon$ you found earlier."
   ]
  },
  {
   "cell_type": "code",
   "execution_count": 10,
   "metadata": {},
   "outputs": [],
   "source": [
    "xenon1t_eth = 4.0 ## type your Eth here\n",
    "xenon1t_expo = 2e4 ## type your exposure here"
   ]
  },
  {
   "cell_type": "markdown",
   "metadata": {},
   "source": [
    " Now you can call the function below to determine the expected number of recoil events "
   ]
  },
  {
   "cell_type": "code",
   "execution_count": 11,
   "metadata": {},
   "outputs": [
    {
     "data": {
      "text/plain": [
       "1.0203733511520299"
      ]
     },
     "execution_count": 11,
     "metadata": {},
     "output_type": "execute_result"
    }
   ],
   "source": [
    "DM.Nevents_xenon(Eth = xenon1t_eth, exposure=xenon1t_expo, m_x = 100.0, sigma=1e-46)"
   ]
  },
  {
   "cell_type": "markdown",
   "metadata": {},
   "source": [
    "- Now you can use this function to find where $N_{\\mathrm{DM}}=2.303$ for different mass values and produce your own exclusion line. \n",
    "- **Hint**: Remember earlier, when you experimented with what the differential rates looked like, changing $\\sigma$ only really changed the values on the y-axis. The actual shape of the signal was only effected by $m_{\\rm DM}$. This means you can write $ N(m_{\\rm DM}^{\\rm ref}, \\sigma)= \\sigma \\times {\\rm constant}$, where $m_{\\rm DM}^{\\rm ref}$ is the reference value of the mass."
   ]
  },
  {
   "cell_type": "markdown",
   "metadata": {},
   "source": [
    "**Answer**: First consider the hint. For a given mass $m_{\\rm DM}^{\\rm ref}$,\n",
    "\n",
    "$$ \\frac{ N(m_{\\rm DM}^{\\rm ref}, \\sigma)}{\\sigma} =\\frac{  N(m_{\\rm DM}^{\\rm ref}, \\sigma_{90\\%})}{\\sigma_{90\\%}}$$\n",
    "\n",
    "where $\\sigma_{90\\%}$ is the cross-section that gives the 90% confidence level, which from earlier $N(m_{\\rm DM}^{\\rm ref}, \\sigma_{90\\%})=2.303$. Therefore \n",
    "\n",
    "$$\\sigma_{90\\%}= \\frac{\\sigma  \\times 2.303}{N(m_{\\rm DM}^{\\rm ref}, \\sigma)},$$\n",
    "\n",
    "so to find $\\sigma_{90\\%}$ for a given mass is a simple algorithm given below. "
   ]
  },
  {
   "cell_type": "code",
   "execution_count": 31,
   "metadata": {},
   "outputs": [],
   "source": [
    "\n",
    "def find_sigma90(m_x):\n",
    "\n",
    "    ref_sig = 1e-46\n",
    "    Nevents_ref = DM.Nevents_xenon(Eth = xenon1t_eth, exposure=xenon1t_expo, m_x = m_x, sigma=ref_sig)\n",
    "    sigma90 = (ref_sig*2.303)/Nevents_ref\n",
    "    \n",
    "\n",
    "    return sigma90\n",
    "\n",
    "    \n",
    "    "
   ]
  },
  {
   "cell_type": "code",
   "execution_count": 34,
   "metadata": {},
   "outputs": [],
   "source": [
    "import matplotlib.pyplot as plt\n",
    "import numpy as np"
   ]
  },
  {
   "cell_type": "code",
   "execution_count": 35,
   "metadata": {},
   "outputs": [],
   "source": [
    "mass_space = np.geomspace(6,1e3)"
   ]
  },
  {
   "cell_type": "code",
   "execution_count": 45,
   "metadata": {},
   "outputs": [
    {
     "name": "stderr",
     "output_type": "stream",
     "text": [
      "<ipython-input-31-2519c7c28320>:5: RuntimeWarning: divide by zero encountered in true_divide\n",
      "  sigma90 = (ref_sig*2.303)/Nevents_ref\n"
     ]
    },
    {
     "data": {
      "text/plain": [
       "Text(0, 0.5, '$\\\\sigma\\\\,\\\\,\\\\left[{\\\\rm cm}^2\\\\right]$')"
      ]
     },
     "execution_count": 45,
     "metadata": {},
     "output_type": "execute_result"
    },
    {
     "data": {
      "image/png": "[encoded data removed]",
      "text/plain": [
       "<Figure size 432x288 with 1 Axes>"
      ]
     },
     "metadata": {
      "needs_background": "light"
     },
     "output_type": "display_data"
    }
   ],
   "source": [
    "plt.loglog(mass_space,find_sigma90(mass_space))\n",
    "plt.xlim(xmin=6.0,xmax=1e3)\n",
    "plt.ylim(ymin=1e-47, ymax=2e-43)\n",
    "plt.xlabel(r'$m_{\\rm DM}\\,\\,\\left[{\\rm GeV}\\right]$', size=18)\n",
    "plt.ylabel(r'$\\sigma\\,\\,\\left[{\\rm cm}^2\\right]$', size=18)"
   ]
  },
  {
   "cell_type": "code",
   "execution_count": null,
   "metadata": {},
   "outputs": [],
   "source": []
  }
 ],
 "metadata": {
  "kernelspec": {
   "display_name": "Python 3",
   "language": "python",
   "name": "python3"
  },
  "language_info": {
   "codemirror_mode": {
    "name": "ipython",
    "version": 3
   },
   "file_extension": ".py",
   "mimetype": "text/x-python",
   "name": "python",
   "nbconvert_exporter": "python",
   "pygments_lexer": "ipython3",
   "version": "3.8.3"
  }
 },
 "nbformat": 4,
 "nbformat_minor": 4
}
