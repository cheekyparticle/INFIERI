{
 "cells": [
  {
   "cell_type": "markdown",
   "metadata": {},
   "source": [
    "## Notebook on Designing Direct Detection experiments\n",
    "\n",
    "- In this notebook we will look more in detail of how direct dark matter detection experiments work. \n",
    "- If you're unfamiliar with Jupyter Notebooks, don't worry, this should be designed such that you only need to execute each cell (i.e. press shift + enter). \n",
    "\n"
   ]
  },
  {
   "cell_type": "markdown",
   "metadata": {},
   "source": [
    "- First we need to import the needed libraries for our calculations."
   ]
  },
  {
   "cell_type": "code",
   "execution_count": 1,
   "metadata": {},
   "outputs": [
    {
     "data": {
      "application/javascript": [
       "IPython.OutputArea.prototype._should_scroll = function(lines) {\n",
       "    return false;\n",
       "}\n"
      ],
      "text/plain": [
       "<IPython.core.display.Javascript object>"
      ]
     },
     "metadata": {},
     "output_type": "display_data"
    }
   ],
   "source": [
    "%%javascript\n",
    "IPython.OutputArea.prototype._should_scroll = function(lines) {\n",
    "    return false;\n",
    "}"
   ]
  },
  {
   "cell_type": "code",
   "execution_count": 2,
   "metadata": {},
   "outputs": [],
   "source": [
    "from __future__ import print_function\n",
    "\n",
    "import DM_simple as DM \n",
    "\n",
    "from ipywidgets import interact, interactive, fixed, interact_manual\n",
    "import ipywidgets as widgets\n"
   ]
  },
  {
   "cell_type": "markdown",
   "metadata": {},
   "source": [
    "## Exercise 1 : Recoil rate of different target nuclei"
   ]
  },
  {
   "cell_type": "markdown",
   "metadata": {},
   "source": [
    "- First we'll look at the differential recoil rate for xenon, argon and germanium targets. \n",
    "- Below click the \"Run interact\". \n",
    "- How is the recoil rate effected by the parameters $m_{\\rm{DM}}$ and $\\sigma$? (Click the slider to a new number and press \"Run interact\" again. "
   ]
  },
  {
   "cell_type": "code",
   "execution_count": 3,
   "metadata": {},
   "outputs": [
    {
     "data": {
      "application/vnd.jupyter.widget-view+json": {
       "model_id": "226cf3129b804665bba186b4fd445e1c",
       "version_major": 2,
       "version_minor": 0
      },
      "text/plain": [
       "interactive(children=(FloatLogSlider(value=100.0, description='$m_{\\\\rm DM}\\\\,\\\\, (\\\\rm{GeV})$', layout=Layout…"
      ]
     },
     "metadata": {},
     "output_type": "display_data"
    }
   ],
   "source": [
    "interactive_plot = interact_manual(DM.plot_spec, m_x=DM.mdm_slide, sigma=DM.sigma_slide)"
   ]
  },
  {
   "cell_type": "markdown",
   "metadata": {},
   "source": [
    "<span style='background:yellow'> **Answer**: For the first question, we're just looking for them to notice that the shape changes if $m_{\\rm DM}$ changes and $\\sigma$ just effects the scale on the y-axis.</span>"
   ]
  },
  {
   "cell_type": "markdown",
   "metadata": {},
   "source": [
    "- In the limit $E_R\\rightarrow 0$, the rate for xenon is greater than germanium, which in turn, is greater than for argon. Can you explain why this is? You can use the interactive window to get a rough estimate, but you can also use the actual code as well. "
   ]
  },
  {
   "cell_type": "code",
   "execution_count": 4,
   "metadata": {
    "scrolled": true
   },
   "outputs": [
    {
     "data": {
      "text/plain": [
       "0.00046558938054364144"
      ]
     },
     "execution_count": 4,
     "metadata": {},
     "output_type": "execute_result"
    }
   ],
   "source": [
    "DM.rate_xenon(Er=1.0, m_x=100.0, sigma= 1e-44)"
   ]
  },
  {
   "cell_type": "code",
   "execution_count": 5,
   "metadata": {
    "scrolled": true
   },
   "outputs": [
    {
     "data": {
      "text/plain": [
       "4.4363789508252776e-05"
      ]
     },
     "execution_count": 5,
     "metadata": {},
     "output_type": "execute_result"
    }
   ],
   "source": [
    "DM.rate_argon(Er=1.0, m_x=100.0, sigma= 1e-44)"
   ]
  },
  {
   "cell_type": "code",
   "execution_count": 6,
   "metadata": {},
   "outputs": [
    {
     "data": {
      "text/plain": [
       "0.00015063213711421158"
      ]
     },
     "execution_count": 6,
     "metadata": {},
     "output_type": "execute_result"
    }
   ],
   "source": [
    "DM.rate_germanium(Er=1.0, m_x=100.0, sigma= 1e-44)"
   ]
  },
  {
   "cell_type": "markdown",
   "metadata": {},
   "source": [
    "<span style='background:yellow'>**Answer**: One thing to notice is that the result is nan as you put $E_R=0$ zero. Encourage them to think about whether a scattering where the nucleus is unaffected (i.e. when $E_R$ is exactly zero) makes sense. What they should see is the value is roughly fixed for $E_R$ closer and closer to $0$ like $10^{-6}$ for example.</span> \n",
    "\n",
    "<span style='background:yellow'>By taking the ratio we can get </span>"
   ]
  },
  {
   "cell_type": "code",
   "execution_count": 7,
   "metadata": {},
   "outputs": [
    {
     "data": {
      "text/plain": [
       "10.886585894841144"
      ]
     },
     "execution_count": 7,
     "metadata": {},
     "output_type": "execute_result"
    }
   ],
   "source": [
    "DM.rate_xenon(Er=1e-10, m_x=100.0, sigma= 1e-44)/DM.rate_argon(Er=1e-10, m_x=100.0, sigma= 1e-44)"
   ]
  },
  {
   "cell_type": "markdown",
   "metadata": {},
   "source": [
    "<span style='background:yellow'>Spin independent scattering is enhanced by $A^2$ where $A$ is the nucleon number. For xenon, a common isotope is $ ^{132}{\\rm Xe}$ and argon $ ^{40}{\\rm Ar}$. The students might not know this so encourage them to think about the ratio and discuss with them the differences of each nuclei.</span>\n",
    "\n",
    "<span style='background:yellow'>so we have</span>"
   ]
  },
  {
   "cell_type": "code",
   "execution_count": 8,
   "metadata": {},
   "outputs": [
    {
     "data": {
      "text/plain": [
       "10.89"
      ]
     },
     "execution_count": 8,
     "metadata": {},
     "output_type": "execute_result"
    }
   ],
   "source": [
    "132**2/40**2"
   ]
  },
  {
   "cell_type": "markdown",
   "metadata": {},
   "source": [
    "## Exercise 2: Estimating the experimental setup of Xenon1T"
   ]
  },
  {
   "cell_type": "markdown",
   "metadata": {},
   "source": [
    "- We learnt earlier that in a real experiment, detectors are not able to measure recoil energies ($E_R$) at arbitrarily low or high values.\n",
    "- The lowest recoil an experiment can measure is called the **energy threshold**, $E_{\\rm th}$.\n",
    "- The highest recoil an experiment measures is $E_{\\rm max}$. This is more of a choice than a experimental limitation, look at the differential rates above to think about why. \n",
    "- So the number of DM interactions detected per kg pr day is given by \n",
    "\n",
    "$$\\int_{E_{\\rm th}}^{E_{\\rm max}}\\frac{\\textrm{d}R}{\\textrm{d}E_R}.$$ \n"
   ]
  },
  {
   "cell_type": "markdown",
   "metadata": {},
   "source": [
    "- Lets try to understand a little bit about a real experiment, [Xenon1T](https://arxiv.org/pdf/1805.12562.pdf), which is a xenon target. \n",
    "- The collaboration reported the exclusion limit below. \n",
    "\n",
    "<img src=\"figures/Xenon1T.png\" width=\"500\" >"
   ]
  },
  {
   "cell_type": "markdown",
   "metadata": {},
   "source": [
    "- It looks like the Xenon1T limit starts when $m_{\\rm DM}\\sim 6\\,\\,{\\rm GeV}$.\n",
    "- Use the interactive window below to estimate the value of $E_{\\rm th}$ for the experiment."
   ]
  },
  {
   "cell_type": "code",
   "execution_count": 9,
   "metadata": {
    "hide_input": false
   },
   "outputs": [
    {
     "data": {
      "application/vnd.jupyter.widget-view+json": {
       "model_id": "4b4e3bcf06e8496082fd2ce51e9a0ce1",
       "version_major": 2,
       "version_minor": 0
      },
      "text/plain": [
       "interactive(children=(FloatSlider(value=10.0, description='$E_{\\\\rm{th}}\\\\,\\\\,(\\\\rm{keV})$', layout=Layout(wid…"
      ]
     },
     "metadata": {},
     "output_type": "display_data"
    }
   ],
   "source": [
    "interactive_plot2 = interact_manual(DM.plot_for_Eth, Eth=DM.Eth_slide, m_x=DM.mdm_slide, \n",
    "                                    sigma=DM.sigma_slide)"
   ]
  },
  {
   "cell_type": "markdown",
   "metadata": {},
   "source": [
    "<span style='background:yellow'>**ANSWER**: By setting the mass to around $6\\,\\,{\\rm GeV}$ we can see that the signal falls to the left of the threshold if its $E_{\\rm th}= 10 {\\rm keV}$, therefore there is no signal and counts are 0. By changing $E_{\\rm th}$ we can see that the threshold is just over $\\sim 3\\,\\,{\\rm keV}$.</span>"
   ]
  },
  {
   "cell_type": "markdown",
   "metadata": {},
   "source": [
    "- Now you have found the threshold energy, lets try to estimate the exposure $\\epsilon$ of Xenon1T in kg days.\n",
    "- **Hint**: Assume that the exclusion line is given when counts $\\sim 1$. Look at the value for $\\sigma$ around $m_{\\rm DM}\\sim 100\\,\\,{\\rm GeV}$, use the interactive window above to estimate $\\epsilon$."
   ]
  },
  {
   "cell_type": "markdown",
   "metadata": {},
   "source": [
    "<span style='background:yellow'>**ANSWER**: By setting the parameters $m_{\\rm DM}\\sim 100\\,\\,{\\rm GeV}$, $E_{\\rm th}\\sim 3.3\\,\\,{\\rm keV}$ and $\\sigma=10^{-46}\\,\\,{\\rm cm}^2$ (which I read off from the black line in the Xenon1T exclusion limit), I get $\\sim 5\\times 10^{-5}\\,\\, {\\rm Counts }\\,\\,{\\rm kg}^{-1}\\,\\,{\\rm day}^{-1}$. So in order to have $\\sim 1 $ recoil observed by the experiment, its expsosure should be $\\sim 2\\times 10^4\\,\\,{\\rm kg}\\,\\, {\\rm day}$.</span>"
   ]
  },
  {
   "cell_type": "code",
   "execution_count": 10,
   "metadata": {},
   "outputs": [
    {
     "data": {
      "text/plain": [
       "20000.0"
      ]
     },
     "execution_count": 10,
     "metadata": {},
     "output_type": "execute_result"
    }
   ],
   "source": [
    "1/5e-5"
   ]
  },
  {
   "cell_type": "markdown",
   "metadata": {},
   "source": [
    "## Exercise 3: Building the Exclusion limit \n",
    "\n",
    "- Now we have a toy model of the Xenon1T experiment, lets see if we can produce a exclusion line similar to the one above. \n",
    " \n",
    "- Above we assumed that Counts ~ 1 is roughly where the exclusion limit will lay, this makes sense, but we can be more specific by using statistics.\n",
    "\n",
    "- Direct detection is a counting experiment with its probability described by the Poisson distribution\n",
    "\n",
    "$$\\mathcal{P}\\left(N_{\\mathrm{obs}} | N_{\\mathrm{th}}\\right)=\\frac{N_{\\mathrm{th}}^{N_{\\mathrm{obs}}} e^{-N_{\\mathrm{th}}}}{N_{\\mathrm{obs}} !}$$\n",
    "\n",
    "- where $N_{\\mathrm{th}}=N_{\\mathrm{DM}}+N_{\\mathrm{bk}}$, is the theoretical counts expected for a parameter point $\\Theta$ and $N_{\\mathrm{obs}}$ is the observed counts.\n",
    "\n",
    "- $N_{\\mathrm{bk}}$ is the number of expected background events. This is roughly zero for Xenon1T. \n",
    "\n",
    "- Xenon1T shown above is showing the 90% confidence level. This is like saying 90% of experiments would have detected more events given a theoretical expectation $N_{\\mathrm{th}}$,\n",
    "\n",
    "$$\\sum_{m=N_{\\mathrm{obs}}+1}^{\\infty} \\mathcal{P}\\left(m | N_{b}, \\Theta, \\mathcal{M}_{i}\\right)=0.9$$ \n",
    "\n",
    "- Xenon1T observed no nuclear recoil events $N_{\\mathrm{obs}}=0.0$, show that the 90% confidence limit corresponds to $N_{\\mathrm{DM}}=2.303$.\n",
    "\n",
    "- **Hint** remember that all probabilities have to add up to 1, i.e. $\\sum_{m=0}^{\\infty}\\mathcal{P} = 1$, use this to substitute out $\\sum_{m=N_{\\mathrm{obs}}+1}^{\\infty} \\mathcal{P}\\left(m | N_{b}, \\Theta, \\mathcal{M}_{i}\\right)$ to something more manageable. "
   ]
  },
  {
   "cell_type": "markdown",
   "metadata": {},
   "source": [
    "<span style='background:yellow'>**Answer**: Using the hint we get \n",
    "\n",
    "$$\\sum_{m=0}^{N_{\\mathrm{obs}}} \\mathcal{P}\\left(m |  N_{\\mathrm{th}}\\right)= 0.1$$\n",
    "\n",
    "<span style='background:yellow'>since $N_{\\mathrm{obs}}=0$ this is just</span>\n",
    "\n",
    "$$\\mathcal{P}\\left(0 |  N_{\\mathrm{th}}\\right)=  e^{-N_{\\mathrm{DM}}}= 0.1$$\n",
    "\n",
    "<span style='background:yellow'>taking the log of each side we get $N_{\\mathrm{DM}}=2.303$.</span>"
   ]
  },
  {
   "cell_type": "markdown",
   "metadata": {},
   "source": [
    "- Now lets see if we can write a code which can calculate the value of $\\sigma$ that corresponds to the 90\\% confidence level (i.e. Counts equal to 2.303 or $N_{\\mathrm{DM}}=2.303$).\n",
    "\n",
    "- First in the cell below, specify the values for $E_{\\rm th}$ and $\\epsilon$ you found earlier."
   ]
  },
  {
   "cell_type": "code",
   "execution_count": 11,
   "metadata": {},
   "outputs": [],
   "source": [
    "xenon1t_eth = 3.3 ## type your Eth here\n",
    "xenon1t_expo = 20000.0 ## type your exposure here"
   ]
  },
  {
   "cell_type": "markdown",
   "metadata": {},
   "source": [
    " Now you can call the function below to determine the expected number of recoil events "
   ]
  },
  {
   "cell_type": "code",
   "execution_count": 12,
   "metadata": {},
   "outputs": [
    {
     "data": {
      "text/plain": [
       "1.075026947159343"
      ]
     },
     "execution_count": 12,
     "metadata": {},
     "output_type": "execute_result"
    }
   ],
   "source": [
    "DM.Nevents_xenon(Eth = xenon1t_eth, exposure=xenon1t_expo, m_x = 100.0, sigma=1e-46)"
   ]
  },
  {
   "cell_type": "markdown",
   "metadata": {},
   "source": [
    "- Now you can use this function to find where $N_{\\mathrm{DM}}=2.303$ for different mass values and produce your own exclusion line. \n",
    "- **Hint**: Remember earlier, when you experimented with what the differential rates looked like, changing $\\sigma$ only really changed the values on the y-axis. The actual shape of the signal was only effected by $m_{\\rm DM}$. This means you can write $ N(m_{\\rm DM}^{\\rm ref}, \\sigma)= \\sigma \\times {\\rm constant}$, where $m_{\\rm DM}^{\\rm ref}$ is the reference value of the mass."
   ]
  },
  {
   "cell_type": "markdown",
   "metadata": {},
   "source": [
    "<span style='background:yellow'>**Answer**: First consider the hint. For a given mass $m_{\\rm DM}^{\\rm ref}$,</span>\n",
    "\n",
    "$$ \\frac{ N(m_{\\rm DM}^{\\rm ref}, \\sigma)}{\\sigma} =\\frac{  N(m_{\\rm DM}^{\\rm ref}, \\sigma_{90\\%})}{\\sigma_{90\\%}}$$\n",
    "\n",
    "<span style='background:yellow'>where $\\sigma_{90\\%}$ is the cross-section that gives the 90% confidence level, which from earlier $N(m_{\\rm DM}^{\\rm ref}, \\sigma_{90\\%})=2.303$. Therefore </span>\n",
    "\n",
    "$$\\sigma_{90\\%}= \\frac{\\sigma  \\times 2.303}{N(m_{\\rm DM}^{\\rm ref}, \\sigma)},$$\n",
    "\n",
    "<span style='background:yellow'>so to find $\\sigma_{90\\%}$ for a given mass is a simple algorithm given below. </span>"
   ]
  },
  {
   "cell_type": "code",
   "execution_count": 13,
   "metadata": {},
   "outputs": [],
   "source": [
    "\n",
    "def find_sigma90(m_x):\n",
    "\n",
    "    ref_sig = 1e-46\n",
    "    Nevents_ref = DM.Nevents_xenon(Eth = xenon1t_eth, exposure=xenon1t_expo, m_x = m_x, sigma=ref_sig)\n",
    "    sigma90 = (ref_sig*2.303)/Nevents_ref\n",
    "    \n",
    "\n",
    "    return sigma90\n",
    "\n",
    "    \n",
    "    "
   ]
  },
  {
   "cell_type": "code",
   "execution_count": 14,
   "metadata": {},
   "outputs": [],
   "source": [
    "import matplotlib.pyplot as plt\n",
    "import numpy as np"
   ]
  },
  {
   "cell_type": "code",
   "execution_count": 15,
   "metadata": {},
   "outputs": [],
   "source": [
    "mass_space = np.geomspace(6,1e3)"
   ]
  },
  {
   "cell_type": "code",
   "execution_count": 16,
   "metadata": {},
   "outputs": [
    {
     "data": {
      "text/plain": [
       "Text(0, 0.5, '$\\\\sigma\\\\,\\\\,\\\\left[{\\\\rm cm}^2\\\\right]$')"
      ]
     },
     "execution_count": 16,
     "metadata": {},
     "output_type": "execute_result"
    },
    {
     "data": {
      "image/png": "[encoded data removed]",
      "text/plain": [
       "<Figure size 432x288 with 1 Axes>"
      ]
     },
     "metadata": {
      "needs_background": "light"
     },
     "output_type": "display_data"
    }
   ],
   "source": [
    "plt.loglog(mass_space,find_sigma90(mass_space))\n",
    "plt.xlim(xmin=6.0,xmax=1e3)\n",
    "plt.ylim(ymin=1e-47, ymax=2e-43)\n",
    "plt.xlabel(r'$m_{\\rm DM}\\,\\,\\left[{\\rm GeV}\\right]$', size=18)\n",
    "plt.ylabel(r'$\\sigma\\,\\,\\left[{\\rm cm}^2\\right]$', size=18)"
   ]
  },
  {
   "cell_type": "markdown",
   "metadata": {},
   "source": [
    "- You can compare your exclusion limit with the one in the interactive window below. Be sure to check the experimental parameters $E_{\\rm th}$ and $\\epsilon$."
   ]
  },
  {
   "cell_type": "code",
   "execution_count": 17,
   "metadata": {},
   "outputs": [
    {
     "data": {
      "application/vnd.jupyter.widget-view+json": {
       "model_id": "fbedf1f75dc348bab1f00f4465b13a4b",
       "version_major": 2,
       "version_minor": 0
      },
      "text/plain": [
       "interactive(children=(FloatSlider(value=10.0, description='$E_{\\\\rm{th}}\\\\,\\\\,(\\\\rm{keV})$', layout=Layout(wid…"
      ]
     },
     "metadata": {},
     "output_type": "display_data"
    }
   ],
   "source": [
    "interactive_plot3 = interact_manual(DM.plot_exclusion, Eth=DM.Eth_slide, exposure=DM.expo_slide)"
   ]
  },
  {
   "cell_type": "markdown",
   "metadata": {},
   "source": [
    "## Exercise 4: Finding dark matter in a future detector\n",
    "\n",
    "- Now the next generation of xenon experiments will have $\\sim 10$ times more exposure.\n",
    "- Imagine now that dark matter has a $m_{\\rm DM}$ and $\\sigma$ just below our Xenon1T sensitivity. Then the next generation of detectors will discover something. \n",
    "- Below, there is a simulated \"observation\" of dark matter in black, you can use the interaction window to determine its $m_{\\rm DM}$ and $\\sigma$ values.\n",
    "- Experiments are a bit more sophisticated than just getting a total number of recoils between $E_{\\rm th} - E_{\\rm max}$. The energy $E_R$ can be reconstructed, giving us more information about the nature of the signal.\n",
    "\n",
    "- In the interactive window below put your values for a **future** xenon experiment $E_{\\rm th}$ and $\\epsilon$ in and vary the $m_{\\rm DM}$ and $\\sigma$  values. By matching the blue signal to the \"observed\" data, you can estimate the true values of $m_{\\rm DM}$ and $\\sigma$.  "
   ]
  },
  {
   "cell_type": "code",
   "execution_count": 18,
   "metadata": {
    "scrolled": false
   },
   "outputs": [
    {
     "data": {
      "application/vnd.jupyter.widget-view+json": {
       "model_id": "7764244a1aa64f749f6afaadc80234f7",
       "version_major": 2,
       "version_minor": 0
      },
      "text/plain": [
       "interactive(children=(FloatSlider(value=3.6, description='$E_{\\\\rm{th}}\\\\,\\\\,(\\\\rm{keV})$', layout=Layout(widt…"
      ]
     },
     "metadata": {},
     "output_type": "display_data"
    }
   ],
   "source": [
    "interactive_plot4 = interact_manual(DM.plot_bin_reconstruction, Eth=DM.Eth_slide, exposure=DM.g2_expo_slide,\n",
    "                                    m_x=DM.mdm_slide, \n",
    "                                    sigma=DM.sigma_slide)"
   ]
  },
  {
   "cell_type": "markdown",
   "metadata": {},
   "source": [
    "<span style='background:yellow'>**Answer**: The values that produce the \"observed\" signal are $m_{\\rm}=200$ GeV and $\\sigma=2\\times 10^{-46}\\,\\,{\\rm cm}^2$. Fix the values for the new experiment and change the paramters so the blue lines up with the black. The students will probably find a lot of variation because at these masses the shape of the differential rate doesn't change that much, as we saw from the first interactive window.</span> "
   ]
  },
  {
   "cell_type": "markdown",
   "metadata": {},
   "source": [
    "### Comparison with the actual Xenon1T and Annual modulation\n",
    "\n",
    "- You may notice that your limit is a little bit different from the Xenon1T limit. \n",
    "- Also if you look at their [paper](https://arxiv.org/pdf/1805.12562.pdf), you will see that their fiducial mass is 0.9 tons and the experiment was taking data for 278.8 days. This is potentially quite different from your estimated exposure. \n",
    "- To explore why this is, you can go to the [notebook here](./More_realistic_experimental_setup.ipynb).\n",
    "- Aternatively you can explore the effects of annual modulation [in this notebook](Annual_modulation.ipynb).\n",
    "- Here is the [Solutions notebook](./Solutions.ipynb).\n",
    "\n"
   ]
  },
  {
   "cell_type": "code",
   "execution_count": null,
   "metadata": {},
   "outputs": [],
   "source": []
  }
 ],
 "metadata": {
  "kernelspec": {
   "display_name": "Python 3",
   "language": "python",
   "name": "python3"
  },
  "language_info": {
   "codemirror_mode": {
    "name": "ipython",
    "version": 3
   },
   "file_extension": ".py",
   "mimetype": "text/x-python",
   "name": "python",
   "nbconvert_exporter": "python",
   "pygments_lexer": "ipython3",
   "version": "3.8.3"
  }
 },
 "nbformat": 4,
 "nbformat_minor": 4
}
